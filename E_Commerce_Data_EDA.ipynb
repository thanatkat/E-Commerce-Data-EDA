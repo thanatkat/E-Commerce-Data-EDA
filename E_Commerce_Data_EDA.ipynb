{
  "nbformat": 4,
  "nbformat_minor": 0,
  "metadata": {
    "colab": {
      "provenance": [],
      "authorship_tag": "ABX9TyOeVUbESkqTT2hz1RRW4Igw",
      "include_colab_link": true
    },
    "kernelspec": {
      "name": "python3",
      "display_name": "Python 3"
    },
    "language_info": {
      "name": "python"
    }
  },
  "cells": [
    {
      "cell_type": "markdown",
      "metadata": {
        "id": "view-in-github",
        "colab_type": "text"
      },
      "source": [
        "<a href=\"https://colab.research.google.com/github/thanatkat/E-Commerce-Data-EDA/blob/main/E_Commerce_Data_EDA.ipynb\" target=\"_parent\"><img src=\"https://colab.research.google.com/assets/colab-badge.svg\" alt=\"Open In Colab\"/></a>"
      ]
    },
    {
      "cell_type": "markdown",
      "source": [
        "# E-Commerce Data"
      ],
      "metadata": {
        "id": "cA1vDKlrDqTo"
      }
    },
    {
      "cell_type": "markdown",
      "source": [
        "Dataset: https://www.kaggle.com/datasets/carrie1/ecommerce-data"
      ],
      "metadata": {
        "id": "CrieqdrkD11W"
      }
    },
    {
      "cell_type": "code",
      "execution_count": 1,
      "metadata": {
        "id": "TaVj7DsHDlvy"
      },
      "outputs": [],
      "source": [
        "# import \n",
        "import matplotlib.pyplot as plt # plotting\n",
        "import numpy as np # linear algebra\n",
        "import os # accessing directory structure\n",
        "import pandas as pd # data processing, CSV file I/O (e.g. pd.read_csv)\n",
        "import datetime as dt"
      ]
    },
    {
      "cell_type": "code",
      "source": [
        "# read csv file\n",
        "df = pd.read_csv(\"data.csv\", encoding= 'unicode_escape')"
      ],
      "metadata": {
        "id": "kjp3V0CZEXyn"
      },
      "execution_count": 28,
      "outputs": []
    },
    {
      "cell_type": "code",
      "source": [
        "# change InvoiceDate object to datetime\n",
        "df['InvoiceDate'] = pd.to_datetime(df['InvoiceDate'])"
      ],
      "metadata": {
        "id": "F_qiaXiDXQ5J"
      },
      "execution_count": 29,
      "outputs": []
    },
    {
      "cell_type": "code",
      "source": [
        "# view data head\n",
        "df.head(5)"
      ],
      "metadata": {
        "colab": {
          "base_uri": "https://localhost:8080/",
          "height": 206
        },
        "id": "Kh-xcQn-IPbs",
        "outputId": "da3daee5-20ee-4c53-f5f1-c988eb756303"
      },
      "execution_count": 4,
      "outputs": [
        {
          "output_type": "execute_result",
          "data": {
            "text/plain": [
              "  InvoiceNo StockCode                          Description  Quantity  \\\n",
              "0    536365    85123A   WHITE HANGING HEART T-LIGHT HOLDER         6   \n",
              "1    536365     71053                  WHITE METAL LANTERN         6   \n",
              "2    536365    84406B       CREAM CUPID HEARTS COAT HANGER         8   \n",
              "3    536365    84029G  KNITTED UNION FLAG HOT WATER BOTTLE         6   \n",
              "4    536365    84029E       RED WOOLLY HOTTIE WHITE HEART.         6   \n",
              "\n",
              "          InvoiceDate  UnitPrice  CustomerID         Country  \n",
              "0 2010-12-01 08:26:00       2.55     17850.0  United Kingdom  \n",
              "1 2010-12-01 08:26:00       3.39     17850.0  United Kingdom  \n",
              "2 2010-12-01 08:26:00       2.75     17850.0  United Kingdom  \n",
              "3 2010-12-01 08:26:00       3.39     17850.0  United Kingdom  \n",
              "4 2010-12-01 08:26:00       3.39     17850.0  United Kingdom  "
            ],
            "text/html": [
              "\n",
              "  <div id=\"df-71d759a7-d60f-4e4d-bbc6-daa3f1e9e35b\">\n",
              "    <div class=\"colab-df-container\">\n",
              "      <div>\n",
              "<style scoped>\n",
              "    .dataframe tbody tr th:only-of-type {\n",
              "        vertical-align: middle;\n",
              "    }\n",
              "\n",
              "    .dataframe tbody tr th {\n",
              "        vertical-align: top;\n",
              "    }\n",
              "\n",
              "    .dataframe thead th {\n",
              "        text-align: right;\n",
              "    }\n",
              "</style>\n",
              "<table border=\"1\" class=\"dataframe\">\n",
              "  <thead>\n",
              "    <tr style=\"text-align: right;\">\n",
              "      <th></th>\n",
              "      <th>InvoiceNo</th>\n",
              "      <th>StockCode</th>\n",
              "      <th>Description</th>\n",
              "      <th>Quantity</th>\n",
              "      <th>InvoiceDate</th>\n",
              "      <th>UnitPrice</th>\n",
              "      <th>CustomerID</th>\n",
              "      <th>Country</th>\n",
              "    </tr>\n",
              "  </thead>\n",
              "  <tbody>\n",
              "    <tr>\n",
              "      <th>0</th>\n",
              "      <td>536365</td>\n",
              "      <td>85123A</td>\n",
              "      <td>WHITE HANGING HEART T-LIGHT HOLDER</td>\n",
              "      <td>6</td>\n",
              "      <td>2010-12-01 08:26:00</td>\n",
              "      <td>2.55</td>\n",
              "      <td>17850.0</td>\n",
              "      <td>United Kingdom</td>\n",
              "    </tr>\n",
              "    <tr>\n",
              "      <th>1</th>\n",
              "      <td>536365</td>\n",
              "      <td>71053</td>\n",
              "      <td>WHITE METAL LANTERN</td>\n",
              "      <td>6</td>\n",
              "      <td>2010-12-01 08:26:00</td>\n",
              "      <td>3.39</td>\n",
              "      <td>17850.0</td>\n",
              "      <td>United Kingdom</td>\n",
              "    </tr>\n",
              "    <tr>\n",
              "      <th>2</th>\n",
              "      <td>536365</td>\n",
              "      <td>84406B</td>\n",
              "      <td>CREAM CUPID HEARTS COAT HANGER</td>\n",
              "      <td>8</td>\n",
              "      <td>2010-12-01 08:26:00</td>\n",
              "      <td>2.75</td>\n",
              "      <td>17850.0</td>\n",
              "      <td>United Kingdom</td>\n",
              "    </tr>\n",
              "    <tr>\n",
              "      <th>3</th>\n",
              "      <td>536365</td>\n",
              "      <td>84029G</td>\n",
              "      <td>KNITTED UNION FLAG HOT WATER BOTTLE</td>\n",
              "      <td>6</td>\n",
              "      <td>2010-12-01 08:26:00</td>\n",
              "      <td>3.39</td>\n",
              "      <td>17850.0</td>\n",
              "      <td>United Kingdom</td>\n",
              "    </tr>\n",
              "    <tr>\n",
              "      <th>4</th>\n",
              "      <td>536365</td>\n",
              "      <td>84029E</td>\n",
              "      <td>RED WOOLLY HOTTIE WHITE HEART.</td>\n",
              "      <td>6</td>\n",
              "      <td>2010-12-01 08:26:00</td>\n",
              "      <td>3.39</td>\n",
              "      <td>17850.0</td>\n",
              "      <td>United Kingdom</td>\n",
              "    </tr>\n",
              "  </tbody>\n",
              "</table>\n",
              "</div>\n",
              "      <button class=\"colab-df-convert\" onclick=\"convertToInteractive('df-71d759a7-d60f-4e4d-bbc6-daa3f1e9e35b')\"\n",
              "              title=\"Convert this dataframe to an interactive table.\"\n",
              "              style=\"display:none;\">\n",
              "        \n",
              "  <svg xmlns=\"http://www.w3.org/2000/svg\" height=\"24px\"viewBox=\"0 0 24 24\"\n",
              "       width=\"24px\">\n",
              "    <path d=\"M0 0h24v24H0V0z\" fill=\"none\"/>\n",
              "    <path d=\"M18.56 5.44l.94 2.06.94-2.06 2.06-.94-2.06-.94-.94-2.06-.94 2.06-2.06.94zm-11 1L8.5 8.5l.94-2.06 2.06-.94-2.06-.94L8.5 2.5l-.94 2.06-2.06.94zm10 10l.94 2.06.94-2.06 2.06-.94-2.06-.94-.94-2.06-.94 2.06-2.06.94z\"/><path d=\"M17.41 7.96l-1.37-1.37c-.4-.4-.92-.59-1.43-.59-.52 0-1.04.2-1.43.59L10.3 9.45l-7.72 7.72c-.78.78-.78 2.05 0 2.83L4 21.41c.39.39.9.59 1.41.59.51 0 1.02-.2 1.41-.59l7.78-7.78 2.81-2.81c.8-.78.8-2.07 0-2.86zM5.41 20L4 18.59l7.72-7.72 1.47 1.35L5.41 20z\"/>\n",
              "  </svg>\n",
              "      </button>\n",
              "      \n",
              "  <style>\n",
              "    .colab-df-container {\n",
              "      display:flex;\n",
              "      flex-wrap:wrap;\n",
              "      gap: 12px;\n",
              "    }\n",
              "\n",
              "    .colab-df-convert {\n",
              "      background-color: #E8F0FE;\n",
              "      border: none;\n",
              "      border-radius: 50%;\n",
              "      cursor: pointer;\n",
              "      display: none;\n",
              "      fill: #1967D2;\n",
              "      height: 32px;\n",
              "      padding: 0 0 0 0;\n",
              "      width: 32px;\n",
              "    }\n",
              "\n",
              "    .colab-df-convert:hover {\n",
              "      background-color: #E2EBFA;\n",
              "      box-shadow: 0px 1px 2px rgba(60, 64, 67, 0.3), 0px 1px 3px 1px rgba(60, 64, 67, 0.15);\n",
              "      fill: #174EA6;\n",
              "    }\n",
              "\n",
              "    [theme=dark] .colab-df-convert {\n",
              "      background-color: #3B4455;\n",
              "      fill: #D2E3FC;\n",
              "    }\n",
              "\n",
              "    [theme=dark] .colab-df-convert:hover {\n",
              "      background-color: #434B5C;\n",
              "      box-shadow: 0px 1px 3px 1px rgba(0, 0, 0, 0.15);\n",
              "      filter: drop-shadow(0px 1px 2px rgba(0, 0, 0, 0.3));\n",
              "      fill: #FFFFFF;\n",
              "    }\n",
              "  </style>\n",
              "\n",
              "      <script>\n",
              "        const buttonEl =\n",
              "          document.querySelector('#df-71d759a7-d60f-4e4d-bbc6-daa3f1e9e35b button.colab-df-convert');\n",
              "        buttonEl.style.display =\n",
              "          google.colab.kernel.accessAllowed ? 'block' : 'none';\n",
              "\n",
              "        async function convertToInteractive(key) {\n",
              "          const element = document.querySelector('#df-71d759a7-d60f-4e4d-bbc6-daa3f1e9e35b');\n",
              "          const dataTable =\n",
              "            await google.colab.kernel.invokeFunction('convertToInteractive',\n",
              "                                                     [key], {});\n",
              "          if (!dataTable) return;\n",
              "\n",
              "          const docLinkHtml = 'Like what you see? Visit the ' +\n",
              "            '<a target=\"_blank\" href=https://colab.research.google.com/notebooks/data_table.ipynb>data table notebook</a>'\n",
              "            + ' to learn more about interactive tables.';\n",
              "          element.innerHTML = '';\n",
              "          dataTable['output_type'] = 'display_data';\n",
              "          await google.colab.output.renderOutput(dataTable, element);\n",
              "          const docLink = document.createElement('div');\n",
              "          docLink.innerHTML = docLinkHtml;\n",
              "          element.appendChild(docLink);\n",
              "        }\n",
              "      </script>\n",
              "    </div>\n",
              "  </div>\n",
              "  "
            ]
          },
          "metadata": {},
          "execution_count": 4
        }
      ]
    },
    {
      "cell_type": "code",
      "source": [
        "df.info()"
      ],
      "metadata": {
        "colab": {
          "base_uri": "https://localhost:8080/"
        },
        "id": "3_v0uDplKnHw",
        "outputId": "fead4279-3e0d-4cef-c7f3-29a97ef5fd9a"
      },
      "execution_count": 30,
      "outputs": [
        {
          "output_type": "stream",
          "name": "stdout",
          "text": [
            "<class 'pandas.core.frame.DataFrame'>\n",
            "RangeIndex: 412977 entries, 0 to 412976\n",
            "Data columns (total 8 columns):\n",
            " #   Column       Non-Null Count   Dtype         \n",
            "---  ------       --------------   -----         \n",
            " 0   InvoiceNo    412977 non-null  object        \n",
            " 1   StockCode    412977 non-null  object        \n",
            " 2   Description  411634 non-null  object        \n",
            " 3   Quantity     412976 non-null  float64       \n",
            " 4   InvoiceDate  412976 non-null  datetime64[ns]\n",
            " 5   UnitPrice    412976 non-null  float64       \n",
            " 6   CustomerID   308494 non-null  float64       \n",
            " 7   Country      412976 non-null  object        \n",
            "dtypes: datetime64[ns](1), float64(3), object(4)\n",
            "memory usage: 25.2+ MB\n"
          ]
        }
      ]
    },
    {
      "cell_type": "code",
      "source": [
        "# drop the duplicate row\n",
        "df.drop_duplicates(inplace=True)"
      ],
      "metadata": {
        "id": "BRL2KyrULFoJ"
      },
      "execution_count": 33,
      "outputs": []
    },
    {
      "cell_type": "code",
      "source": [
        "# check missing value\n",
        "# Description, CustomerID have non-value \n",
        "df.count()"
      ],
      "metadata": {
        "colab": {
          "base_uri": "https://localhost:8080/"
        },
        "id": "GSPT7t9aODUq",
        "outputId": "302c4cb2-99e8-4b0f-dee5-367fe1edc13d"
      },
      "execution_count": 35,
      "outputs": [
        {
          "output_type": "execute_result",
          "data": {
            "text/plain": [
              "InvoiceNo      409590\n",
              "StockCode      409590\n",
              "Description    408247\n",
              "Quantity       409589\n",
              "InvoiceDate    409589\n",
              "UnitPrice      409589\n",
              "CustomerID     305143\n",
              "Country        409589\n",
              "dtype: int64"
            ]
          },
          "metadata": {},
          "execution_count": 35
        }
      ]
    },
    {
      "cell_type": "code",
      "source": [
        "# show only rows having non value\n",
        "null_mask = df.isnull().any(axis=1)\n",
        "null_rows = df[null_mask]\n",
        "print(null_rows)"
      ],
      "metadata": {
        "colab": {
          "base_uri": "https://localhost:8080/"
        },
        "id": "RRpYMfZ4Pg5Q",
        "outputId": "00b3c84b-d8b0-4699-f33a-9ae0e7b9535e"
      },
      "execution_count": 36,
      "outputs": [
        {
          "output_type": "stream",
          "name": "stdout",
          "text": [
            "       InvoiceNo StockCode                        Description  Quantity  \\\n",
            "622       536414     22139                                NaN      56.0   \n",
            "1443      536544     21773    DECORATIVE ROSE BATHROOM BOTTLE       1.0   \n",
            "1444      536544     21774    DECORATIVE CATS BATHROOM BOTTLE       2.0   \n",
            "1445      536544     21786                 POLKADOT RAIN HAT        4.0   \n",
            "1446      536544     21787              RAIN PONCHO RETROSPOT       2.0   \n",
            "...          ...       ...                                ...       ...   \n",
            "411020    572190     23209           LUNCH BAG VINTAGE DOILY        1.0   \n",
            "411021    572190     20727            LUNCH BAG  BLACK SKULL.       1.0   \n",
            "411022    572190     23027  DRAWER KNOB VINTAGE GLASS HEXAGON       1.0   \n",
            "411896    572239    84247E                                NaN       1.0   \n",
            "412976    572302    84997C                   CHILDRENS CUTLER       NaN   \n",
            "\n",
            "               InvoiceDate  UnitPrice  CustomerID         Country  \n",
            "622    2010-12-01 11:52:00       0.00         NaN  United Kingdom  \n",
            "1443   2010-12-01 14:32:00       2.51         NaN  United Kingdom  \n",
            "1444   2010-12-01 14:32:00       2.51         NaN  United Kingdom  \n",
            "1445   2010-12-01 14:32:00       0.85         NaN  United Kingdom  \n",
            "1446   2010-12-01 14:32:00       1.66         NaN  United Kingdom  \n",
            "...                    ...        ...         ...             ...  \n",
            "411020 2011-10-21 11:16:00       1.65         NaN  United Kingdom  \n",
            "411021 2011-10-21 11:16:00       1.65         NaN  United Kingdom  \n",
            "411022 2011-10-21 11:16:00       2.08         NaN  United Kingdom  \n",
            "411896 2011-10-21 15:15:00       0.00         NaN  United Kingdom  \n",
            "412976                 NaT        NaN         NaN             NaN  \n",
            "\n",
            "[104447 rows x 8 columns]\n"
          ]
        }
      ]
    },
    {
      "cell_type": "code",
      "source": [
        "# replace null value in CustomerID with '00000'\n",
        "df['CustomerID'].fillna('00000', inplace=True)"
      ],
      "metadata": {
        "id": "IxJXBeNlUBj4"
      },
      "execution_count": 37,
      "outputs": []
    },
    {
      "cell_type": "code",
      "source": [
        "# fill in missing Description using StockCode\n",
        "df['Description'] = df.groupby('StockCode')['Description'].fillna(method='ffill')"
      ],
      "metadata": {
        "id": "AkVZTFK4ry5i"
      },
      "execution_count": 38,
      "outputs": []
    },
    {
      "cell_type": "code",
      "source": [
        "df.info()"
      ],
      "metadata": {
        "colab": {
          "base_uri": "https://localhost:8080/"
        },
        "id": "3hIZvJ9Ij42m",
        "outputId": "9815c4af-0dc1-4067-9b3d-197ce2518a01"
      },
      "execution_count": 39,
      "outputs": [
        {
          "output_type": "stream",
          "name": "stdout",
          "text": [
            "<class 'pandas.core.frame.DataFrame'>\n",
            "Int64Index: 409590 entries, 0 to 412976\n",
            "Data columns (total 8 columns):\n",
            " #   Column       Non-Null Count   Dtype         \n",
            "---  ------       --------------   -----         \n",
            " 0   InvoiceNo    409590 non-null  object        \n",
            " 1   StockCode    409590 non-null  object        \n",
            " 2   Description  409406 non-null  object        \n",
            " 3   Quantity     409589 non-null  float64       \n",
            " 4   InvoiceDate  409589 non-null  datetime64[ns]\n",
            " 5   UnitPrice    409589 non-null  float64       \n",
            " 6   CustomerID   409590 non-null  object        \n",
            " 7   Country      409589 non-null  object        \n",
            "dtypes: datetime64[ns](1), float64(2), object(5)\n",
            "memory usage: 28.1+ MB\n"
          ]
        }
      ]
    },
    {
      "cell_type": "code",
      "source": [
        "# Some StockCodes are not match with Description\n",
        "# Put 'Unknown' to missing values on Description column\n",
        "df['Description'].fillna('Unknown', inplace=True)"
      ],
      "metadata": {
        "id": "hsVbtLJ-xM55"
      },
      "execution_count": 40,
      "outputs": []
    },
    {
      "cell_type": "code",
      "source": [
        "# check again\n",
        "df.sample(30)"
      ],
      "metadata": {
        "id": "kGnDlJcux6OZ",
        "colab": {
          "base_uri": "https://localhost:8080/",
          "height": 990
        },
        "outputId": "6d9e45ee-c934-4b01-9cdc-140ec3de1783"
      },
      "execution_count": 14,
      "outputs": [
        {
          "output_type": "execute_result",
          "data": {
            "text/plain": [
              "      InvoiceNo StockCode                          Description  Quantity  \\\n",
              "38235    539492    85131B  BEADED CRYSTAL HEART GREEN ON STICK         1   \n",
              "33815    539296    84846A      SCENTED CANDLE IN DIGITALIS TIN         6   \n",
              "51247    540646     21222                 SET/4 BADGES BEETLES         1   \n",
              "30456    538866     21479        WHITE SKULL HOT WATER BOTTLE         30   \n",
              "62265    541497    84951A  SET OF 4 PISTACHIO LOVEBIRD COASTER         2   \n",
              "40669    539740     22385            JUMBO BAG SPACEBOY DESIGN         1   \n",
              "54038    540848     40001          WHITE BAMBOO RIBS LAMPSHADE         1   \n",
              "2784     536592     22665    RECIPE BOX BLUE SKETCHBOOK DESIGN         1   \n",
              "18397    537823     22964   3 PIECE SPACEBOY COOKIE CUTTER SET         1   \n",
              "46522    540354     21755             LOVE BUILDING BLOCK WORD         6   \n",
              "33280    539245     22811             SET OF 6 T-LIGHTS CACTI          1   \n",
              "31269    538917     22854          CREAM SWEETHEART EGG HOLDER         2   \n",
              "28359    538635     22191               IVORY DINER WALL CLOCK         1   \n",
              "14555    537604     21534            DAIRY MAID LARGE MILK JUG         3   \n",
              "15585    537638     84949        SILVER HANGING T-LIGHT HOLDER         1   \n",
              "48564    540469     20971     PINK BLUE FELT CRAFT TRINKET BOX         3   \n",
              "57992    541219     21991      BOHEMIAN COLLAGE STATIONERY SET         1   \n",
              "56592    541104     22345       PARTY PIZZA DISH BLUE POLKADOT         1   \n",
              "18012    537793     22411    JUMBO SHOPPER VINTAGE RED PAISLEY       100   \n",
              "24468    538349     21934                   SKULL SHOULDER BAG         2   \n",
              "48375    540468     21849      SILVER DIAMANTE PEN IN GIFT BOX         4   \n",
              "37720    539475     22109         FULL ENGLISH BREAKFAST PLATE         1   \n",
              "42410    539988     85062   PEARL CRYSTAL PUMPKIN T-LIGHT HLDR         4   \n",
              "37953    539491     21986     PACK OF 12 PINK POLKADOT TISSUES        12   \n",
              "29256   C538720     71053                  WHITE METAL LANTERN        -4   \n",
              "41077    539750     21215          IVORY PAPER CUP CAKE CASES          4   \n",
              "15730    537640     22692          DOORMAT WELCOME TO OUR HOME         2   \n",
              "25621    538378    82001S            VINYL RECORD FRAME SILVER         1   \n",
              "19448   C537860     22637                PIGGY BANK RETROSPOT         -6   \n",
              "50476    540551     22377                BOTTLE BAG RETROSPOT         11   \n",
              "\n",
              "              InvoiceDate  UnitPrice CustomerID         Country  \n",
              "38235 2010-12-20 10:14:00       0.85      00000  United Kingdom  \n",
              "33815 2010-12-16 17:01:00       2.10    16816.0  United Kingdom  \n",
              "51247 2011-01-10 14:32:00       0.85      00000  United Kingdom  \n",
              "30456 2010-12-14 14:40:00       3.39    17841.0  United Kingdom  \n",
              "62265 2011-01-18 15:19:00       1.63      00000  United Kingdom  \n",
              "40669 2010-12-21 15:20:00       5.06      00000  United Kingdom  \n",
              "54038 2011-01-12 09:26:00       1.66      00000  United Kingdom  \n",
              "2784  2010-12-01 17:06:00       5.91      00000  United Kingdom  \n",
              "18397 2010-12-08 14:25:00       4.21      00000  United Kingdom  \n",
              "46522 2011-01-06 14:58:00       5.95    13576.0  United Kingdom  \n",
              "33280 2010-12-16 13:25:00       2.95      00000  United Kingdom  \n",
              "31269 2010-12-15 10:57:00       4.95    17449.0  United Kingdom  \n",
              "28359 2010-12-13 13:32:00       8.50    17303.0  United Kingdom  \n",
              "14555 2010-12-07 13:01:00       4.95    13488.0  United Kingdom  \n",
              "15585 2010-12-07 15:28:00       3.36      00000  United Kingdom  \n",
              "48564 2011-01-07 14:04:00       1.25    12484.0           Spain  \n",
              "57992 2011-01-14 14:06:00       2.46      00000  United Kingdom  \n",
              "56592 2011-01-13 14:29:00       0.42      00000  United Kingdom  \n",
              "18012 2010-12-08 12:57:00       1.65    15032.0  United Kingdom  \n",
              "24468 2010-12-10 14:59:00       3.36      00000  United Kingdom  \n",
              "48375 2011-01-07 13:55:00       1.66      00000  United Kingdom  \n",
              "37720 2010-12-19 14:41:00       3.75    16686.0  United Kingdom  \n",
              "42410 2010-12-23 16:06:00       1.65    18116.0  United Kingdom  \n",
              "37953 2010-12-20 10:09:00       0.29    14646.0     Netherlands  \n",
              "29256 2010-12-14 11:11:00       3.75    17526.0  United Kingdom  \n",
              "41077 2010-12-21 15:40:00       2.13      00000  United Kingdom  \n",
              "15730 2010-12-07 15:31:00      16.98      00000  United Kingdom  \n",
              "25621 2010-12-12 11:26:00       3.75    14577.0  United Kingdom  \n",
              "19448 2010-12-08 16:15:00       2.55    16252.0  United Kingdom  \n",
              "50476 2011-01-10 09:43:00       1.66      00000  United Kingdom  "
            ],
            "text/html": [
              "\n",
              "  <div id=\"df-a747b686-7e2e-43b9-9435-638c7cc5953f\">\n",
              "    <div class=\"colab-df-container\">\n",
              "      <div>\n",
              "<style scoped>\n",
              "    .dataframe tbody tr th:only-of-type {\n",
              "        vertical-align: middle;\n",
              "    }\n",
              "\n",
              "    .dataframe tbody tr th {\n",
              "        vertical-align: top;\n",
              "    }\n",
              "\n",
              "    .dataframe thead th {\n",
              "        text-align: right;\n",
              "    }\n",
              "</style>\n",
              "<table border=\"1\" class=\"dataframe\">\n",
              "  <thead>\n",
              "    <tr style=\"text-align: right;\">\n",
              "      <th></th>\n",
              "      <th>InvoiceNo</th>\n",
              "      <th>StockCode</th>\n",
              "      <th>Description</th>\n",
              "      <th>Quantity</th>\n",
              "      <th>InvoiceDate</th>\n",
              "      <th>UnitPrice</th>\n",
              "      <th>CustomerID</th>\n",
              "      <th>Country</th>\n",
              "    </tr>\n",
              "  </thead>\n",
              "  <tbody>\n",
              "    <tr>\n",
              "      <th>38235</th>\n",
              "      <td>539492</td>\n",
              "      <td>85131B</td>\n",
              "      <td>BEADED CRYSTAL HEART GREEN ON STICK</td>\n",
              "      <td>1</td>\n",
              "      <td>2010-12-20 10:14:00</td>\n",
              "      <td>0.85</td>\n",
              "      <td>00000</td>\n",
              "      <td>United Kingdom</td>\n",
              "    </tr>\n",
              "    <tr>\n",
              "      <th>33815</th>\n",
              "      <td>539296</td>\n",
              "      <td>84846A</td>\n",
              "      <td>SCENTED CANDLE IN DIGITALIS TIN</td>\n",
              "      <td>6</td>\n",
              "      <td>2010-12-16 17:01:00</td>\n",
              "      <td>2.10</td>\n",
              "      <td>16816.0</td>\n",
              "      <td>United Kingdom</td>\n",
              "    </tr>\n",
              "    <tr>\n",
              "      <th>51247</th>\n",
              "      <td>540646</td>\n",
              "      <td>21222</td>\n",
              "      <td>SET/4 BADGES BEETLES</td>\n",
              "      <td>1</td>\n",
              "      <td>2011-01-10 14:32:00</td>\n",
              "      <td>0.85</td>\n",
              "      <td>00000</td>\n",
              "      <td>United Kingdom</td>\n",
              "    </tr>\n",
              "    <tr>\n",
              "      <th>30456</th>\n",
              "      <td>538866</td>\n",
              "      <td>21479</td>\n",
              "      <td>WHITE SKULL HOT WATER BOTTLE</td>\n",
              "      <td>30</td>\n",
              "      <td>2010-12-14 14:40:00</td>\n",
              "      <td>3.39</td>\n",
              "      <td>17841.0</td>\n",
              "      <td>United Kingdom</td>\n",
              "    </tr>\n",
              "    <tr>\n",
              "      <th>62265</th>\n",
              "      <td>541497</td>\n",
              "      <td>84951A</td>\n",
              "      <td>SET OF 4 PISTACHIO LOVEBIRD COASTER</td>\n",
              "      <td>2</td>\n",
              "      <td>2011-01-18 15:19:00</td>\n",
              "      <td>1.63</td>\n",
              "      <td>00000</td>\n",
              "      <td>United Kingdom</td>\n",
              "    </tr>\n",
              "    <tr>\n",
              "      <th>40669</th>\n",
              "      <td>539740</td>\n",
              "      <td>22385</td>\n",
              "      <td>JUMBO BAG SPACEBOY DESIGN</td>\n",
              "      <td>1</td>\n",
              "      <td>2010-12-21 15:20:00</td>\n",
              "      <td>5.06</td>\n",
              "      <td>00000</td>\n",
              "      <td>United Kingdom</td>\n",
              "    </tr>\n",
              "    <tr>\n",
              "      <th>54038</th>\n",
              "      <td>540848</td>\n",
              "      <td>40001</td>\n",
              "      <td>WHITE BAMBOO RIBS LAMPSHADE</td>\n",
              "      <td>1</td>\n",
              "      <td>2011-01-12 09:26:00</td>\n",
              "      <td>1.66</td>\n",
              "      <td>00000</td>\n",
              "      <td>United Kingdom</td>\n",
              "    </tr>\n",
              "    <tr>\n",
              "      <th>2784</th>\n",
              "      <td>536592</td>\n",
              "      <td>22665</td>\n",
              "      <td>RECIPE BOX BLUE SKETCHBOOK DESIGN</td>\n",
              "      <td>1</td>\n",
              "      <td>2010-12-01 17:06:00</td>\n",
              "      <td>5.91</td>\n",
              "      <td>00000</td>\n",
              "      <td>United Kingdom</td>\n",
              "    </tr>\n",
              "    <tr>\n",
              "      <th>18397</th>\n",
              "      <td>537823</td>\n",
              "      <td>22964</td>\n",
              "      <td>3 PIECE SPACEBOY COOKIE CUTTER SET</td>\n",
              "      <td>1</td>\n",
              "      <td>2010-12-08 14:25:00</td>\n",
              "      <td>4.21</td>\n",
              "      <td>00000</td>\n",
              "      <td>United Kingdom</td>\n",
              "    </tr>\n",
              "    <tr>\n",
              "      <th>46522</th>\n",
              "      <td>540354</td>\n",
              "      <td>21755</td>\n",
              "      <td>LOVE BUILDING BLOCK WORD</td>\n",
              "      <td>6</td>\n",
              "      <td>2011-01-06 14:58:00</td>\n",
              "      <td>5.95</td>\n",
              "      <td>13576.0</td>\n",
              "      <td>United Kingdom</td>\n",
              "    </tr>\n",
              "    <tr>\n",
              "      <th>33280</th>\n",
              "      <td>539245</td>\n",
              "      <td>22811</td>\n",
              "      <td>SET OF 6 T-LIGHTS CACTI</td>\n",
              "      <td>1</td>\n",
              "      <td>2010-12-16 13:25:00</td>\n",
              "      <td>2.95</td>\n",
              "      <td>00000</td>\n",
              "      <td>United Kingdom</td>\n",
              "    </tr>\n",
              "    <tr>\n",
              "      <th>31269</th>\n",
              "      <td>538917</td>\n",
              "      <td>22854</td>\n",
              "      <td>CREAM SWEETHEART EGG HOLDER</td>\n",
              "      <td>2</td>\n",
              "      <td>2010-12-15 10:57:00</td>\n",
              "      <td>4.95</td>\n",
              "      <td>17449.0</td>\n",
              "      <td>United Kingdom</td>\n",
              "    </tr>\n",
              "    <tr>\n",
              "      <th>28359</th>\n",
              "      <td>538635</td>\n",
              "      <td>22191</td>\n",
              "      <td>IVORY DINER WALL CLOCK</td>\n",
              "      <td>1</td>\n",
              "      <td>2010-12-13 13:32:00</td>\n",
              "      <td>8.50</td>\n",
              "      <td>17303.0</td>\n",
              "      <td>United Kingdom</td>\n",
              "    </tr>\n",
              "    <tr>\n",
              "      <th>14555</th>\n",
              "      <td>537604</td>\n",
              "      <td>21534</td>\n",
              "      <td>DAIRY MAID LARGE MILK JUG</td>\n",
              "      <td>3</td>\n",
              "      <td>2010-12-07 13:01:00</td>\n",
              "      <td>4.95</td>\n",
              "      <td>13488.0</td>\n",
              "      <td>United Kingdom</td>\n",
              "    </tr>\n",
              "    <tr>\n",
              "      <th>15585</th>\n",
              "      <td>537638</td>\n",
              "      <td>84949</td>\n",
              "      <td>SILVER HANGING T-LIGHT HOLDER</td>\n",
              "      <td>1</td>\n",
              "      <td>2010-12-07 15:28:00</td>\n",
              "      <td>3.36</td>\n",
              "      <td>00000</td>\n",
              "      <td>United Kingdom</td>\n",
              "    </tr>\n",
              "    <tr>\n",
              "      <th>48564</th>\n",
              "      <td>540469</td>\n",
              "      <td>20971</td>\n",
              "      <td>PINK BLUE FELT CRAFT TRINKET BOX</td>\n",
              "      <td>3</td>\n",
              "      <td>2011-01-07 14:04:00</td>\n",
              "      <td>1.25</td>\n",
              "      <td>12484.0</td>\n",
              "      <td>Spain</td>\n",
              "    </tr>\n",
              "    <tr>\n",
              "      <th>57992</th>\n",
              "      <td>541219</td>\n",
              "      <td>21991</td>\n",
              "      <td>BOHEMIAN COLLAGE STATIONERY SET</td>\n",
              "      <td>1</td>\n",
              "      <td>2011-01-14 14:06:00</td>\n",
              "      <td>2.46</td>\n",
              "      <td>00000</td>\n",
              "      <td>United Kingdom</td>\n",
              "    </tr>\n",
              "    <tr>\n",
              "      <th>56592</th>\n",
              "      <td>541104</td>\n",
              "      <td>22345</td>\n",
              "      <td>PARTY PIZZA DISH BLUE POLKADOT</td>\n",
              "      <td>1</td>\n",
              "      <td>2011-01-13 14:29:00</td>\n",
              "      <td>0.42</td>\n",
              "      <td>00000</td>\n",
              "      <td>United Kingdom</td>\n",
              "    </tr>\n",
              "    <tr>\n",
              "      <th>18012</th>\n",
              "      <td>537793</td>\n",
              "      <td>22411</td>\n",
              "      <td>JUMBO SHOPPER VINTAGE RED PAISLEY</td>\n",
              "      <td>100</td>\n",
              "      <td>2010-12-08 12:57:00</td>\n",
              "      <td>1.65</td>\n",
              "      <td>15032.0</td>\n",
              "      <td>United Kingdom</td>\n",
              "    </tr>\n",
              "    <tr>\n",
              "      <th>24468</th>\n",
              "      <td>538349</td>\n",
              "      <td>21934</td>\n",
              "      <td>SKULL SHOULDER BAG</td>\n",
              "      <td>2</td>\n",
              "      <td>2010-12-10 14:59:00</td>\n",
              "      <td>3.36</td>\n",
              "      <td>00000</td>\n",
              "      <td>United Kingdom</td>\n",
              "    </tr>\n",
              "    <tr>\n",
              "      <th>48375</th>\n",
              "      <td>540468</td>\n",
              "      <td>21849</td>\n",
              "      <td>SILVER DIAMANTE PEN IN GIFT BOX</td>\n",
              "      <td>4</td>\n",
              "      <td>2011-01-07 13:55:00</td>\n",
              "      <td>1.66</td>\n",
              "      <td>00000</td>\n",
              "      <td>United Kingdom</td>\n",
              "    </tr>\n",
              "    <tr>\n",
              "      <th>37720</th>\n",
              "      <td>539475</td>\n",
              "      <td>22109</td>\n",
              "      <td>FULL ENGLISH BREAKFAST PLATE</td>\n",
              "      <td>1</td>\n",
              "      <td>2010-12-19 14:41:00</td>\n",
              "      <td>3.75</td>\n",
              "      <td>16686.0</td>\n",
              "      <td>United Kingdom</td>\n",
              "    </tr>\n",
              "    <tr>\n",
              "      <th>42410</th>\n",
              "      <td>539988</td>\n",
              "      <td>85062</td>\n",
              "      <td>PEARL CRYSTAL PUMPKIN T-LIGHT HLDR</td>\n",
              "      <td>4</td>\n",
              "      <td>2010-12-23 16:06:00</td>\n",
              "      <td>1.65</td>\n",
              "      <td>18116.0</td>\n",
              "      <td>United Kingdom</td>\n",
              "    </tr>\n",
              "    <tr>\n",
              "      <th>37953</th>\n",
              "      <td>539491</td>\n",
              "      <td>21986</td>\n",
              "      <td>PACK OF 12 PINK POLKADOT TISSUES</td>\n",
              "      <td>12</td>\n",
              "      <td>2010-12-20 10:09:00</td>\n",
              "      <td>0.29</td>\n",
              "      <td>14646.0</td>\n",
              "      <td>Netherlands</td>\n",
              "    </tr>\n",
              "    <tr>\n",
              "      <th>29256</th>\n",
              "      <td>C538720</td>\n",
              "      <td>71053</td>\n",
              "      <td>WHITE METAL LANTERN</td>\n",
              "      <td>-4</td>\n",
              "      <td>2010-12-14 11:11:00</td>\n",
              "      <td>3.75</td>\n",
              "      <td>17526.0</td>\n",
              "      <td>United Kingdom</td>\n",
              "    </tr>\n",
              "    <tr>\n",
              "      <th>41077</th>\n",
              "      <td>539750</td>\n",
              "      <td>21215</td>\n",
              "      <td>IVORY PAPER CUP CAKE CASES</td>\n",
              "      <td>4</td>\n",
              "      <td>2010-12-21 15:40:00</td>\n",
              "      <td>2.13</td>\n",
              "      <td>00000</td>\n",
              "      <td>United Kingdom</td>\n",
              "    </tr>\n",
              "    <tr>\n",
              "      <th>15730</th>\n",
              "      <td>537640</td>\n",
              "      <td>22692</td>\n",
              "      <td>DOORMAT WELCOME TO OUR HOME</td>\n",
              "      <td>2</td>\n",
              "      <td>2010-12-07 15:31:00</td>\n",
              "      <td>16.98</td>\n",
              "      <td>00000</td>\n",
              "      <td>United Kingdom</td>\n",
              "    </tr>\n",
              "    <tr>\n",
              "      <th>25621</th>\n",
              "      <td>538378</td>\n",
              "      <td>82001S</td>\n",
              "      <td>VINYL RECORD FRAME SILVER</td>\n",
              "      <td>1</td>\n",
              "      <td>2010-12-12 11:26:00</td>\n",
              "      <td>3.75</td>\n",
              "      <td>14577.0</td>\n",
              "      <td>United Kingdom</td>\n",
              "    </tr>\n",
              "    <tr>\n",
              "      <th>19448</th>\n",
              "      <td>C537860</td>\n",
              "      <td>22637</td>\n",
              "      <td>PIGGY BANK RETROSPOT</td>\n",
              "      <td>-6</td>\n",
              "      <td>2010-12-08 16:15:00</td>\n",
              "      <td>2.55</td>\n",
              "      <td>16252.0</td>\n",
              "      <td>United Kingdom</td>\n",
              "    </tr>\n",
              "    <tr>\n",
              "      <th>50476</th>\n",
              "      <td>540551</td>\n",
              "      <td>22377</td>\n",
              "      <td>BOTTLE BAG RETROSPOT</td>\n",
              "      <td>11</td>\n",
              "      <td>2011-01-10 09:43:00</td>\n",
              "      <td>1.66</td>\n",
              "      <td>00000</td>\n",
              "      <td>United Kingdom</td>\n",
              "    </tr>\n",
              "  </tbody>\n",
              "</table>\n",
              "</div>\n",
              "      <button class=\"colab-df-convert\" onclick=\"convertToInteractive('df-a747b686-7e2e-43b9-9435-638c7cc5953f')\"\n",
              "              title=\"Convert this dataframe to an interactive table.\"\n",
              "              style=\"display:none;\">\n",
              "        \n",
              "  <svg xmlns=\"http://www.w3.org/2000/svg\" height=\"24px\"viewBox=\"0 0 24 24\"\n",
              "       width=\"24px\">\n",
              "    <path d=\"M0 0h24v24H0V0z\" fill=\"none\"/>\n",
              "    <path d=\"M18.56 5.44l.94 2.06.94-2.06 2.06-.94-2.06-.94-.94-2.06-.94 2.06-2.06.94zm-11 1L8.5 8.5l.94-2.06 2.06-.94-2.06-.94L8.5 2.5l-.94 2.06-2.06.94zm10 10l.94 2.06.94-2.06 2.06-.94-2.06-.94-.94-2.06-.94 2.06-2.06.94z\"/><path d=\"M17.41 7.96l-1.37-1.37c-.4-.4-.92-.59-1.43-.59-.52 0-1.04.2-1.43.59L10.3 9.45l-7.72 7.72c-.78.78-.78 2.05 0 2.83L4 21.41c.39.39.9.59 1.41.59.51 0 1.02-.2 1.41-.59l7.78-7.78 2.81-2.81c.8-.78.8-2.07 0-2.86zM5.41 20L4 18.59l7.72-7.72 1.47 1.35L5.41 20z\"/>\n",
              "  </svg>\n",
              "      </button>\n",
              "      \n",
              "  <style>\n",
              "    .colab-df-container {\n",
              "      display:flex;\n",
              "      flex-wrap:wrap;\n",
              "      gap: 12px;\n",
              "    }\n",
              "\n",
              "    .colab-df-convert {\n",
              "      background-color: #E8F0FE;\n",
              "      border: none;\n",
              "      border-radius: 50%;\n",
              "      cursor: pointer;\n",
              "      display: none;\n",
              "      fill: #1967D2;\n",
              "      height: 32px;\n",
              "      padding: 0 0 0 0;\n",
              "      width: 32px;\n",
              "    }\n",
              "\n",
              "    .colab-df-convert:hover {\n",
              "      background-color: #E2EBFA;\n",
              "      box-shadow: 0px 1px 2px rgba(60, 64, 67, 0.3), 0px 1px 3px 1px rgba(60, 64, 67, 0.15);\n",
              "      fill: #174EA6;\n",
              "    }\n",
              "\n",
              "    [theme=dark] .colab-df-convert {\n",
              "      background-color: #3B4455;\n",
              "      fill: #D2E3FC;\n",
              "    }\n",
              "\n",
              "    [theme=dark] .colab-df-convert:hover {\n",
              "      background-color: #434B5C;\n",
              "      box-shadow: 0px 1px 3px 1px rgba(0, 0, 0, 0.15);\n",
              "      filter: drop-shadow(0px 1px 2px rgba(0, 0, 0, 0.3));\n",
              "      fill: #FFFFFF;\n",
              "    }\n",
              "  </style>\n",
              "\n",
              "      <script>\n",
              "        const buttonEl =\n",
              "          document.querySelector('#df-a747b686-7e2e-43b9-9435-638c7cc5953f button.colab-df-convert');\n",
              "        buttonEl.style.display =\n",
              "          google.colab.kernel.accessAllowed ? 'block' : 'none';\n",
              "\n",
              "        async function convertToInteractive(key) {\n",
              "          const element = document.querySelector('#df-a747b686-7e2e-43b9-9435-638c7cc5953f');\n",
              "          const dataTable =\n",
              "            await google.colab.kernel.invokeFunction('convertToInteractive',\n",
              "                                                     [key], {});\n",
              "          if (!dataTable) return;\n",
              "\n",
              "          const docLinkHtml = 'Like what you see? Visit the ' +\n",
              "            '<a target=\"_blank\" href=https://colab.research.google.com/notebooks/data_table.ipynb>data table notebook</a>'\n",
              "            + ' to learn more about interactive tables.';\n",
              "          element.innerHTML = '';\n",
              "          dataTable['output_type'] = 'display_data';\n",
              "          await google.colab.output.renderOutput(dataTable, element);\n",
              "          const docLink = document.createElement('div');\n",
              "          docLink.innerHTML = docLinkHtml;\n",
              "          element.appendChild(docLink);\n",
              "        }\n",
              "      </script>\n",
              "    </div>\n",
              "  </div>\n",
              "  "
            ]
          },
          "metadata": {},
          "execution_count": 14
        }
      ]
    },
    {
      "cell_type": "code",
      "source": [
        "# count the number of rows with negative values in the Quantity column\n",
        "count = (df['Quantity'] < 0).sum()\n",
        "print(count)"
      ],
      "metadata": {
        "colab": {
          "base_uri": "https://localhost:8080/"
        },
        "id": "NfpAE_m52GR2",
        "outputId": "e7775783-1b1e-4ff0-9cc7-365965e5e6b4"
      },
      "execution_count": 41,
      "outputs": [
        {
          "output_type": "stream",
          "name": "stdout",
          "text": [
            "8677\n"
          ]
        }
      ]
    },
    {
      "cell_type": "code",
      "source": [
        "# I assume negative values in the Quantity are the ones which were cancelled\n",
        "# remove rows with negative Quantity values\n",
        "df = df[df['Quantity'] >= 0]"
      ],
      "metadata": {
        "id": "m0Kp5v-o9Hb8"
      },
      "execution_count": 42,
      "outputs": []
    },
    {
      "cell_type": "code",
      "source": [
        "# check again\n",
        "count = (df['Quantity'] < 0).sum()\n",
        "print(count)"
      ],
      "metadata": {
        "colab": {
          "base_uri": "https://localhost:8080/"
        },
        "id": "8xIOVYE2-EgJ",
        "outputId": "c8172ae2-883d-4d36-987c-73e2503fd114"
      },
      "execution_count": 43,
      "outputs": [
        {
          "output_type": "stream",
          "name": "stdout",
          "text": [
            "0\n"
          ]
        }
      ]
    },
    {
      "cell_type": "code",
      "source": [
        "# new column\n",
        "df['TotalRevenue'] = df['UnitPrice'] * df['Quantity']"
      ],
      "metadata": {
        "id": "iwOIT0lD8rEU"
      },
      "execution_count": 46,
      "outputs": []
    },
    {
      "cell_type": "code",
      "source": [
        "# export dataframe to csv\n",
        "df.to_csv('ecommerce_data.csv')"
      ],
      "metadata": {
        "id": "nI4wxqGYLy5_"
      },
      "execution_count": 47,
      "outputs": []
    },
    {
      "cell_type": "markdown",
      "source": [
        "**EDA**"
      ],
      "metadata": {
        "id": "lKiT3tM3fNEd"
      }
    },
    {
      "cell_type": "code",
      "source": [
        "# The most popular product\n",
        "popular_product = df['Description'].value_counts().head(10)\n",
        "print(popular_product)"
      ],
      "metadata": {
        "colab": {
          "base_uri": "https://localhost:8080/"
        },
        "id": "oCz1IIdWSAxm",
        "outputId": "060dc722-f666-4141-89f9-24450c2bc500"
      },
      "execution_count": 20,
      "outputs": [
        {
          "output_type": "stream",
          "name": "stdout",
          "text": [
            "WHITE HANGING HEART T-LIGHT HOLDER    334\n",
            "REGENCY CAKESTAND 3 TIER              248\n",
            "HEART OF WICKER SMALL                 213\n",
            "HAND WARMER BABUSHKA DESIGN           203\n",
            "SCOTTIE DOG HOT WATER BOTTLE          200\n",
            "JAM MAKING SET PRINTED                194\n",
            "JUMBO BAG RED RETROSPOT               191\n",
            "CHOCOLATE HOT WATER BOTTLE            180\n",
            "PAPER CHAIN KIT 50'S CHRISTMAS        177\n",
            "RETROSPOT HEART HOT WATER BOTTLE      171\n",
            "Name: Description, dtype: int64\n"
          ]
        }
      ]
    },
    {
      "cell_type": "code",
      "source": [
        "# Total Revenue\n",
        "total_revenue = df['TotalRevenue'].sum()\n",
        "print(\"Total revenue:\", total_revenue)"
      ],
      "metadata": {
        "colab": {
          "base_uri": "https://localhost:8080/"
        },
        "id": "QyAfw1zbT37l",
        "outputId": "bced21fc-7a85-4c12-a4f2-675dc5b8507c"
      },
      "execution_count": 21,
      "outputs": [
        {
          "output_type": "stream",
          "name": "stdout",
          "text": [
            "Total revenue: 1269864.0300000003\n"
          ]
        }
      ]
    },
    {
      "cell_type": "code",
      "source": [
        "# Average order size\n",
        "avg_order = df.groupby('InvoiceNo')['TotalRevenue'].sum().mean()\n",
        "print(\"Average order size:\", avg_order)"
      ],
      "metadata": {
        "colab": {
          "base_uri": "https://localhost:8080/"
        },
        "id": "roODCLMrU5RM",
        "outputId": "bfe183f7-5a1f-4f63-f7c2-0ab7a731c1ba"
      },
      "execution_count": 22,
      "outputs": [
        {
          "output_type": "stream",
          "name": "stdout",
          "text": [
            "Average order size: 569.1905109816227\n"
          ]
        }
      ]
    },
    {
      "cell_type": "code",
      "source": [
        "# Calculate the total revenue by day\n",
        "revenue_by_day = df.groupby(pd.Grouper(key='InvoiceDate', freq='D'))['TotalRevenue'].sum()\n",
        "print(revenue_by_day)"
      ],
      "metadata": {
        "colab": {
          "base_uri": "https://localhost:8080/"
        },
        "id": "Wtp-tk_HZfrC",
        "outputId": "8d5d9652-913c-4566-fc6c-2cf5dce0f7e2"
      },
      "execution_count": 23,
      "outputs": [
        {
          "output_type": "stream",
          "name": "stdout",
          "text": [
            "InvoiceDate\n",
            "2010-12-01    58776.79\n",
            "2010-12-02    47629.42\n",
            "2010-12-03    46898.63\n",
            "2010-12-04        0.00\n",
            "2010-12-05    31364.63\n",
            "2010-12-06    54624.15\n",
            "2010-12-07    99553.85\n",
            "2010-12-08    45235.36\n",
            "2010-12-09    53548.19\n",
            "2010-12-10    59021.02\n",
            "2010-12-11        0.00\n",
            "2010-12-12    17125.65\n",
            "2010-12-13    37942.37\n",
            "2010-12-14    45167.56\n",
            "2010-12-15    30384.37\n",
            "2010-12-16    49114.14\n",
            "2010-12-17    45338.13\n",
            "2010-12-18        0.00\n",
            "2010-12-19     7410.47\n",
            "2010-12-20    26766.23\n",
            "2010-12-21    47279.89\n",
            "2010-12-22     6199.97\n",
            "2010-12-23    12071.91\n",
            "2010-12-24        0.00\n",
            "2010-12-25        0.00\n",
            "2010-12-26        0.00\n",
            "2010-12-27        0.00\n",
            "2010-12-28        0.00\n",
            "2010-12-29        0.00\n",
            "2010-12-30        0.00\n",
            "2010-12-31        0.00\n",
            "2011-01-01        0.00\n",
            "2011-01-02        0.00\n",
            "2011-01-03        0.00\n",
            "2011-01-04    16005.73\n",
            "2011-01-05    32630.27\n",
            "2011-01-06    40366.45\n",
            "2011-01-07    28836.59\n",
            "2011-01-08        0.00\n",
            "2011-01-09    15590.68\n",
            "2011-01-10    24553.07\n",
            "2011-01-11    68630.54\n",
            "2011-01-12    24664.58\n",
            "2011-01-13    20612.79\n",
            "2011-01-14    47554.58\n",
            "2011-01-15        0.00\n",
            "2011-01-16     6976.39\n",
            "2011-01-17    29262.72\n",
            "2011-01-18    92726.91\n",
            "Freq: D, Name: TotalRevenue, dtype: float64\n"
          ]
        }
      ]
    },
    {
      "cell_type": "code",
      "source": [
        "# Plot the revenue by day\n",
        "plt.plot(revenue_by_day)\n",
        "plt.xlabel(\"Date\")\n",
        "plt.ylabel(\"Revenue\")\n",
        "plt.show()"
      ],
      "metadata": {
        "colab": {
          "base_uri": "https://localhost:8080/",
          "height": 449
        },
        "id": "RRkAKFzxeVtH",
        "outputId": "c9952871-86e0-4aad-ca0d-0548cbbb01c0"
      },
      "execution_count": 48,
      "outputs": [
        {
          "output_type": "display_data",
          "data": {
            "text/plain": [
              "<Figure size 640x480 with 1 Axes>"
            ],
            "image/png": "[encoded data removed]"
          },
          "metadata": {}
        }
      ]
    },
    {
      "cell_type": "code",
      "source": [
        "# Calculate the order count by week\n",
        "orders_by_week = df.groupby(pd.Grouper(key='InvoiceDate', freq='W'))['InvoiceNo'].nunique()"
      ],
      "metadata": {
        "id": "H9cffNyEeu0W"
      },
      "execution_count": 25,
      "outputs": []
    },
    {
      "cell_type": "code",
      "source": [
        "# Plot the order count by week\n",
        "plt.plot(orders_by_week)\n",
        "plt.xlabel(\"Week\")\n",
        "plt.ylabel(\"Order count\")\n",
        "plt.show()"
      ],
      "metadata": {
        "colab": {
          "base_uri": "https://localhost:8080/",
          "height": 454
        },
        "id": "JeJJ-sOSe3AF",
        "outputId": "2c422fe0-2acc-40c8-d836-f0a9c602c961"
      },
      "execution_count": 26,
      "outputs": [
        {
          "output_type": "display_data",
          "data": {
            "text/plain": [
              "<Figure size 640x480 with 1 Axes>"
            ],
            "image/png": "[encoded data removed]"
          },
          "metadata": {}
        }
      ]
    },
    {
      "cell_type": "code",
      "source": [],
      "metadata": {
        "id": "A7KbZh6Y9eiZ"
      },
      "execution_count": null,
      "outputs": []
    }
  ]
}