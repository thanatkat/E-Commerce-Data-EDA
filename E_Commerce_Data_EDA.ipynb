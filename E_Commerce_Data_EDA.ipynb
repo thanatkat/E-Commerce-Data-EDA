{
  "nbformat": 4,
  "nbformat_minor": 0,
  "metadata": {
    "colab": {
      "provenance": [],
      "authorship_tag": "ABX9TyOtJ73PNE8pTHYzJTmLH3yN",
      "include_colab_link": true
    },
    "kernelspec": {
      "name": "python3",
      "display_name": "Python 3"
    },
    "language_info": {
      "name": "python"
    }
  },
  "cells": [
    {
      "cell_type": "markdown",
      "metadata": {
        "id": "view-in-github",
        "colab_type": "text"
      },
      "source": [
        "<a href=\"https://colab.research.google.com/github/thanatkat/E-Commerce-Data-EDA/blob/main/E_Commerce_Data_EDA.ipynb\" target=\"_parent\"><img src=\"https://colab.research.google.com/assets/colab-badge.svg\" alt=\"Open In Colab\"/></a>"
      ]
    },
    {
      "cell_type": "markdown",
      "source": [
        "# E-Commerce Data"
      ],
      "metadata": {
        "id": "cA1vDKlrDqTo"
      }
    },
    {
      "cell_type": "markdown",
      "source": [
        "Dataset: https://www.kaggle.com/datasets/carrie1/ecommerce-data"
      ],
      "metadata": {
        "id": "CrieqdrkD11W"
      }
    },
    {
      "cell_type": "code",
      "execution_count": 75,
      "metadata": {
        "id": "TaVj7DsHDlvy"
      },
      "outputs": [],
      "source": [
        "# import \n",
        "import matplotlib.pyplot as plt # plotting\n",
        "import numpy as np # linear algebra\n",
        "import os # accessing directory structure\n",
        "import pandas as pd # data processing, CSV file I/O (e.g. pd.read_csv)\n",
        "import datetime as dt"
      ]
    },
    {
      "cell_type": "code",
      "source": [
        "# read csv file\n",
        "df = pd.read_csv(\"data.csv\", encoding= 'unicode_escape')"
      ],
      "metadata": {
        "id": "kjp3V0CZEXyn"
      },
      "execution_count": 76,
      "outputs": []
    },
    {
      "cell_type": "code",
      "source": [
        "# change InvoiceDate object to datetime\n",
        "df['InvoiceDate'] = pd.to_datetime(df['InvoiceDate'])\n",
        "df['InvoiceMonth'] = df['InvoiceDate'].apply(lambda x: dt.datetime(x.year, x.month,1))"
      ],
      "metadata": {
        "id": "F_qiaXiDXQ5J"
      },
      "execution_count": 77,
      "outputs": []
    },
    {
      "cell_type": "code",
      "source": [
        "# view data head\n",
        "df.head(5)"
      ],
      "metadata": {
        "colab": {
          "base_uri": "https://localhost:8080/",
          "height": 583
        },
        "id": "Kh-xcQn-IPbs",
        "outputId": "4827bbfc-66a8-435b-e25b-eaaf6c2b126b"
      },
      "execution_count": 78,
      "outputs": [
        {
          "output_type": "execute_result",
          "data": {
            "text/plain": [
              "  InvoiceNo StockCode                          Description  Quantity  \\\n",
              "0    536365    85123A   WHITE HANGING HEART T-LIGHT HOLDER         6   \n",
              "1    536365     71053                  WHITE METAL LANTERN         6   \n",
              "2    536365    84406B       CREAM CUPID HEARTS COAT HANGER         8   \n",
              "3    536365    84029G  KNITTED UNION FLAG HOT WATER BOTTLE         6   \n",
              "4    536365    84029E       RED WOOLLY HOTTIE WHITE HEART.         6   \n",
              "\n",
              "          InvoiceDate  UnitPrice  CustomerID         Country InvoiceMonth  \n",
              "0 2010-12-01 08:26:00       2.55     17850.0  United Kingdom   2010-12-01  \n",
              "1 2010-12-01 08:26:00       3.39     17850.0  United Kingdom   2010-12-01  \n",
              "2 2010-12-01 08:26:00       2.75     17850.0  United Kingdom   2010-12-01  \n",
              "3 2010-12-01 08:26:00       3.39     17850.0  United Kingdom   2010-12-01  \n",
              "4 2010-12-01 08:26:00       3.39     17850.0  United Kingdom   2010-12-01  "
            ],
            "text/html": [
              "\n",
              "  <div id=\"df-899cee45-a231-429f-b06a-a049da4ccd3d\">\n",
              "    <div class=\"colab-df-container\">\n",
              "      <div>\n",
              "<style scoped>\n",
              "    .dataframe tbody tr th:only-of-type {\n",
              "        vertical-align: middle;\n",
              "    }\n",
              "\n",
              "    .dataframe tbody tr th {\n",
              "        vertical-align: top;\n",
              "    }\n",
              "\n",
              "    .dataframe thead th {\n",
              "        text-align: right;\n",
              "    }\n",
              "</style>\n",
              "<table border=\"1\" class=\"dataframe\">\n",
              "  <thead>\n",
              "    <tr style=\"text-align: right;\">\n",
              "      <th></th>\n",
              "      <th>InvoiceNo</th>\n",
              "      <th>StockCode</th>\n",
              "      <th>Description</th>\n",
              "      <th>Quantity</th>\n",
              "      <th>InvoiceDate</th>\n",
              "      <th>UnitPrice</th>\n",
              "      <th>CustomerID</th>\n",
              "      <th>Country</th>\n",
              "      <th>InvoiceMonth</th>\n",
              "    </tr>\n",
              "  </thead>\n",
              "  <tbody>\n",
              "    <tr>\n",
              "      <th>0</th>\n",
              "      <td>536365</td>\n",
              "      <td>85123A</td>\n",
              "      <td>WHITE HANGING HEART T-LIGHT HOLDER</td>\n",
              "      <td>6</td>\n",
              "      <td>2010-12-01 08:26:00</td>\n",
              "      <td>2.55</td>\n",
              "      <td>17850.0</td>\n",
              "      <td>United Kingdom</td>\n",
              "      <td>2010-12-01</td>\n",
              "    </tr>\n",
              "    <tr>\n",
              "      <th>1</th>\n",
              "      <td>536365</td>\n",
              "      <td>71053</td>\n",
              "      <td>WHITE METAL LANTERN</td>\n",
              "      <td>6</td>\n",
              "      <td>2010-12-01 08:26:00</td>\n",
              "      <td>3.39</td>\n",
              "      <td>17850.0</td>\n",
              "      <td>United Kingdom</td>\n",
              "      <td>2010-12-01</td>\n",
              "    </tr>\n",
              "    <tr>\n",
              "      <th>2</th>\n",
              "      <td>536365</td>\n",
              "      <td>84406B</td>\n",
              "      <td>CREAM CUPID HEARTS COAT HANGER</td>\n",
              "      <td>8</td>\n",
              "      <td>2010-12-01 08:26:00</td>\n",
              "      <td>2.75</td>\n",
              "      <td>17850.0</td>\n",
              "      <td>United Kingdom</td>\n",
              "      <td>2010-12-01</td>\n",
              "    </tr>\n",
              "    <tr>\n",
              "      <th>3</th>\n",
              "      <td>536365</td>\n",
              "      <td>84029G</td>\n",
              "      <td>KNITTED UNION FLAG HOT WATER BOTTLE</td>\n",
              "      <td>6</td>\n",
              "      <td>2010-12-01 08:26:00</td>\n",
              "      <td>3.39</td>\n",
              "      <td>17850.0</td>\n",
              "      <td>United Kingdom</td>\n",
              "      <td>2010-12-01</td>\n",
              "    </tr>\n",
              "    <tr>\n",
              "      <th>4</th>\n",
              "      <td>536365</td>\n",
              "      <td>84029E</td>\n",
              "      <td>RED WOOLLY HOTTIE WHITE HEART.</td>\n",
              "      <td>6</td>\n",
              "      <td>2010-12-01 08:26:00</td>\n",
              "      <td>3.39</td>\n",
              "      <td>17850.0</td>\n",
              "      <td>United Kingdom</td>\n",
              "      <td>2010-12-01</td>\n",
              "    </tr>\n",
              "  </tbody>\n",
              "</table>\n",
              "</div>\n",
              "      <button class=\"colab-df-convert\" onclick=\"convertToInteractive('df-899cee45-a231-429f-b06a-a049da4ccd3d')\"\n",
              "              title=\"Convert this dataframe to an interactive table.\"\n",
              "              style=\"display:none;\">\n",
              "        \n",
              "  <svg xmlns=\"http://www.w3.org/2000/svg\" height=\"24px\"viewBox=\"0 0 24 24\"\n",
              "       width=\"24px\">\n",
              "    <path d=\"M0 0h24v24H0V0z\" fill=\"none\"/>\n",
              "    <path d=\"M18.56 5.44l.94 2.06.94-2.06 2.06-.94-2.06-.94-.94-2.06-.94 2.06-2.06.94zm-11 1L8.5 8.5l.94-2.06 2.06-.94-2.06-.94L8.5 2.5l-.94 2.06-2.06.94zm10 10l.94 2.06.94-2.06 2.06-.94-2.06-.94-.94-2.06-.94 2.06-2.06.94z\"/><path d=\"M17.41 7.96l-1.37-1.37c-.4-.4-.92-.59-1.43-.59-.52 0-1.04.2-1.43.59L10.3 9.45l-7.72 7.72c-.78.78-.78 2.05 0 2.83L4 21.41c.39.39.9.59 1.41.59.51 0 1.02-.2 1.41-.59l7.78-7.78 2.81-2.81c.8-.78.8-2.07 0-2.86zM5.41 20L4 18.59l7.72-7.72 1.47 1.35L5.41 20z\"/>\n",
              "  </svg>\n",
              "      </button>\n",
              "      \n",
              "  <style>\n",
              "    .colab-df-container {\n",
              "      display:flex;\n",
              "      flex-wrap:wrap;\n",
              "      gap: 12px;\n",
              "    }\n",
              "\n",
              "    .colab-df-convert {\n",
              "      background-color: #E8F0FE;\n",
              "      border: none;\n",
              "      border-radius: 50%;\n",
              "      cursor: pointer;\n",
              "      display: none;\n",
              "      fill: #1967D2;\n",
              "      height: 32px;\n",
              "      padding: 0 0 0 0;\n",
              "      width: 32px;\n",
              "    }\n",
              "\n",
              "    .colab-df-convert:hover {\n",
              "      background-color: #E2EBFA;\n",
              "      box-shadow: 0px 1px 2px rgba(60, 64, 67, 0.3), 0px 1px 3px 1px rgba(60, 64, 67, 0.15);\n",
              "      fill: #174EA6;\n",
              "    }\n",
              "\n",
              "    [theme=dark] .colab-df-convert {\n",
              "      background-color: #3B4455;\n",
              "      fill: #D2E3FC;\n",
              "    }\n",
              "\n",
              "    [theme=dark] .colab-df-convert:hover {\n",
              "      background-color: #434B5C;\n",
              "      box-shadow: 0px 1px 3px 1px rgba(0, 0, 0, 0.15);\n",
              "      filter: drop-shadow(0px 1px 2px rgba(0, 0, 0, 0.3));\n",
              "      fill: #FFFFFF;\n",
              "    }\n",
              "  </style>\n",
              "\n",
              "      <script>\n",
              "        const buttonEl =\n",
              "          document.querySelector('#df-899cee45-a231-429f-b06a-a049da4ccd3d button.colab-df-convert');\n",
              "        buttonEl.style.display =\n",
              "          google.colab.kernel.accessAllowed ? 'block' : 'none';\n",
              "\n",
              "        async function convertToInteractive(key) {\n",
              "          const element = document.querySelector('#df-899cee45-a231-429f-b06a-a049da4ccd3d');\n",
              "          const dataTable =\n",
              "            await google.colab.kernel.invokeFunction('convertToInteractive',\n",
              "                                                     [key], {});\n",
              "          if (!dataTable) return;\n",
              "\n",
              "          const docLinkHtml = 'Like what you see? Visit the ' +\n",
              "            '<a target=\"_blank\" href=https://colab.research.google.com/notebooks/data_table.ipynb>data table notebook</a>'\n",
              "            + ' to learn more about interactive tables.';\n",
              "          element.innerHTML = '';\n",
              "          dataTable['output_type'] = 'display_data';\n",
              "          await google.colab.output.renderOutput(dataTable, element);\n",
              "          const docLink = document.createElement('div');\n",
              "          docLink.innerHTML = docLinkHtml;\n",
              "          element.appendChild(docLink);\n",
              "        }\n",
              "      </script>\n",
              "    </div>\n",
              "  </div>\n",
              "  "
            ]
          },
          "metadata": {},
          "execution_count": 78
        }
      ]
    },
    {
      "cell_type": "code",
      "source": [
        "df.info()"
      ],
      "metadata": {
        "colab": {
          "base_uri": "https://localhost:8080/"
        },
        "id": "3_v0uDplKnHw",
        "outputId": "eac2a2c4-2d32-4857-bcd3-285375da0c2b"
      },
      "execution_count": 79,
      "outputs": [
        {
          "output_type": "stream",
          "name": "stdout",
          "text": [
            "<class 'pandas.core.frame.DataFrame'>\n",
            "RangeIndex: 541909 entries, 0 to 541908\n",
            "Data columns (total 9 columns):\n",
            " #   Column        Non-Null Count   Dtype         \n",
            "---  ------        --------------   -----         \n",
            " 0   InvoiceNo     541909 non-null  object        \n",
            " 1   StockCode     541909 non-null  object        \n",
            " 2   Description   540455 non-null  object        \n",
            " 3   Quantity      541909 non-null  int64         \n",
            " 4   InvoiceDate   541909 non-null  datetime64[ns]\n",
            " 5   UnitPrice     541909 non-null  float64       \n",
            " 6   CustomerID    406829 non-null  float64       \n",
            " 7   Country       541909 non-null  object        \n",
            " 8   InvoiceMonth  541909 non-null  datetime64[ns]\n",
            "dtypes: datetime64[ns](2), float64(2), int64(1), object(4)\n",
            "memory usage: 37.2+ MB\n"
          ]
        }
      ]
    },
    {
      "cell_type": "code",
      "source": [
        "# drop the duplicate row\n",
        "df.drop_duplicates(inplace=True)"
      ],
      "metadata": {
        "id": "BRL2KyrULFoJ"
      },
      "execution_count": 80,
      "outputs": []
    },
    {
      "cell_type": "code",
      "source": [
        "# check missing value\n",
        "# Description, CustomerID have non-value \n",
        "df.count()"
      ],
      "metadata": {
        "colab": {
          "base_uri": "https://localhost:8080/"
        },
        "id": "GSPT7t9aODUq",
        "outputId": "4b33f6a6-a2ed-4b2a-d9fe-3cbba9097017"
      },
      "execution_count": 81,
      "outputs": [
        {
          "output_type": "execute_result",
          "data": {
            "text/plain": [
              "InvoiceNo       536641\n",
              "StockCode       536641\n",
              "Description     535187\n",
              "Quantity        536641\n",
              "InvoiceDate     536641\n",
              "UnitPrice       536641\n",
              "CustomerID      401604\n",
              "Country         536641\n",
              "InvoiceMonth    536641\n",
              "dtype: int64"
            ]
          },
          "metadata": {},
          "execution_count": 81
        }
      ]
    },
    {
      "cell_type": "code",
      "source": [
        "# show only rows having non value\n",
        "null_mask = df.isnull().any(axis=1)\n",
        "null_rows = df[null_mask]\n",
        "print(null_rows)"
      ],
      "metadata": {
        "colab": {
          "base_uri": "https://localhost:8080/"
        },
        "id": "RRpYMfZ4Pg5Q",
        "outputId": "2d371a41-fcd5-441f-bcec-962b1d05bbc2"
      },
      "execution_count": 82,
      "outputs": [
        {
          "output_type": "stream",
          "name": "stdout",
          "text": [
            "       InvoiceNo StockCode                      Description  Quantity  \\\n",
            "622       536414     22139                              NaN        56   \n",
            "1443      536544     21773  DECORATIVE ROSE BATHROOM BOTTLE         1   \n",
            "1444      536544     21774  DECORATIVE CATS BATHROOM BOTTLE         2   \n",
            "1445      536544     21786               POLKADOT RAIN HAT          4   \n",
            "1446      536544     21787            RAIN PONCHO RETROSPOT         2   \n",
            "...          ...       ...                              ...       ...   \n",
            "541536    581498    85099B          JUMBO BAG RED RETROSPOT         5   \n",
            "541537    581498    85099C   JUMBO  BAG BAROQUE BLACK WHITE         4   \n",
            "541538    581498     85150    LADIES & GENTLEMEN METAL SIGN         1   \n",
            "541539    581498     85174                S/4 CACTI CANDLES         1   \n",
            "541540    581498       DOT                   DOTCOM POSTAGE         1   \n",
            "\n",
            "               InvoiceDate  UnitPrice  CustomerID         Country InvoiceMonth  \n",
            "622    2010-12-01 11:52:00       0.00         NaN  United Kingdom   2010-12-01  \n",
            "1443   2010-12-01 14:32:00       2.51         NaN  United Kingdom   2010-12-01  \n",
            "1444   2010-12-01 14:32:00       2.51         NaN  United Kingdom   2010-12-01  \n",
            "1445   2010-12-01 14:32:00       0.85         NaN  United Kingdom   2010-12-01  \n",
            "1446   2010-12-01 14:32:00       1.66         NaN  United Kingdom   2010-12-01  \n",
            "...                    ...        ...         ...             ...          ...  \n",
            "541536 2011-12-09 10:26:00       4.13         NaN  United Kingdom   2011-12-01  \n",
            "541537 2011-12-09 10:26:00       4.13         NaN  United Kingdom   2011-12-01  \n",
            "541538 2011-12-09 10:26:00       4.96         NaN  United Kingdom   2011-12-01  \n",
            "541539 2011-12-09 10:26:00      10.79         NaN  United Kingdom   2011-12-01  \n",
            "541540 2011-12-09 10:26:00    1714.17         NaN  United Kingdom   2011-12-01  \n",
            "\n",
            "[135037 rows x 9 columns]\n"
          ]
        }
      ]
    },
    {
      "cell_type": "code",
      "source": [
        "# replace null value in CustomerID with '00000'\n",
        "df['CustomerID'].fillna('00000', inplace=True)"
      ],
      "metadata": {
        "id": "IxJXBeNlUBj4"
      },
      "execution_count": 83,
      "outputs": []
    },
    {
      "cell_type": "code",
      "source": [
        "# fill in missing Description using StockCode\n",
        "df['Description'] = df.groupby('StockCode')['Description'].fillna(method='ffill')"
      ],
      "metadata": {
        "id": "AkVZTFK4ry5i"
      },
      "execution_count": 84,
      "outputs": []
    },
    {
      "cell_type": "code",
      "source": [
        "df.info()"
      ],
      "metadata": {
        "colab": {
          "base_uri": "https://localhost:8080/"
        },
        "id": "3hIZvJ9Ij42m",
        "outputId": "153521f8-7774-4617-bc23-eee55f832509"
      },
      "execution_count": 85,
      "outputs": [
        {
          "output_type": "stream",
          "name": "stdout",
          "text": [
            "<class 'pandas.core.frame.DataFrame'>\n",
            "Int64Index: 536641 entries, 0 to 541908\n",
            "Data columns (total 9 columns):\n",
            " #   Column        Non-Null Count   Dtype         \n",
            "---  ------        --------------   -----         \n",
            " 0   InvoiceNo     536641 non-null  object        \n",
            " 1   StockCode     536641 non-null  object        \n",
            " 2   Description   536456 non-null  object        \n",
            " 3   Quantity      536641 non-null  int64         \n",
            " 4   InvoiceDate   536641 non-null  datetime64[ns]\n",
            " 5   UnitPrice     536641 non-null  float64       \n",
            " 6   CustomerID    536641 non-null  object        \n",
            " 7   Country       536641 non-null  object        \n",
            " 8   InvoiceMonth  536641 non-null  datetime64[ns]\n",
            "dtypes: datetime64[ns](2), float64(1), int64(1), object(5)\n",
            "memory usage: 40.9+ MB\n"
          ]
        }
      ]
    },
    {
      "cell_type": "code",
      "source": [
        "# Some StockCodes are not match with Description\n",
        "# Put 'Unknown' to missing values on Description column\n",
        "df['Description'].fillna('Unknown', inplace=True)"
      ],
      "metadata": {
        "id": "hsVbtLJ-xM55"
      },
      "execution_count": 87,
      "outputs": []
    },
    {
      "cell_type": "code",
      "source": [
        "# check again\n",
        "df.sample(30)"
      ],
      "metadata": {
        "id": "kGnDlJcux6OZ"
      },
      "execution_count": null,
      "outputs": []
    },
    {
      "cell_type": "code",
      "source": [
        "# count the number of rows with negative values in the Quantity column\n",
        "count = (df['Quantity'] < 0).sum()\n",
        "print(count)"
      ],
      "metadata": {
        "colab": {
          "base_uri": "https://localhost:8080/"
        },
        "id": "NfpAE_m52GR2",
        "outputId": "15d2a70c-9c96-46a5-a89f-270eed932988"
      },
      "execution_count": 104,
      "outputs": [
        {
          "output_type": "stream",
          "name": "stdout",
          "text": [
            "10587\n"
          ]
        }
      ]
    },
    {
      "cell_type": "code",
      "source": [
        "# I assume negative values in the Quantity are the ones which were cancelled\n",
        "# remove rows with negative Quantity values\n",
        "df = df[df['Quantity'] >= 0]"
      ],
      "metadata": {
        "id": "m0Kp5v-o9Hb8"
      },
      "execution_count": 105,
      "outputs": []
    },
    {
      "cell_type": "code",
      "source": [
        "# check again\n",
        "count = (df['Quantity'] < 0).sum()\n",
        "print(count)"
      ],
      "metadata": {
        "colab": {
          "base_uri": "https://localhost:8080/"
        },
        "id": "8xIOVYE2-EgJ",
        "outputId": "69011832-1476-4ad4-c9b1-3e76d7552953"
      },
      "execution_count": 107,
      "outputs": [
        {
          "output_type": "stream",
          "name": "stdout",
          "text": [
            "0\n"
          ]
        }
      ]
    },
    {
      "cell_type": "code",
      "source": [
        "# export dataframe to csv\n",
        "df.to_csv('ecommerce_data.csv')"
      ],
      "metadata": {
        "id": "nI4wxqGYLy5_"
      },
      "execution_count": 108,
      "outputs": []
    }
  ]
}